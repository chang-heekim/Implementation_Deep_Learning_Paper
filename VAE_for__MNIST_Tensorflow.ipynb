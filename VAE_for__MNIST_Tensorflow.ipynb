{
  "nbformat": 4,
  "nbformat_minor": 0,
  "metadata": {
    "colab": {
      "name": "VAE_for _MNIST-Tensorflow.ipynb",
      "provenance": [],
      "collapsed_sections": [],
      "machine_shape": "hm",
      "authorship_tag": "ABX9TyOjximYQJOsuuyNVmh7hUfE",
      "include_colab_link": true
    },
    "kernelspec": {
      "name": "python3",
      "display_name": "Python 3"
    },
    "language_info": {
      "name": "python"
    },
    "accelerator": "GPU"
  },
  "cells": [
    {
      "cell_type": "markdown",
      "metadata": {
        "id": "view-in-github",
        "colab_type": "text"
      },
      "source": [
        "<a href=\"https://colab.research.google.com/github/chang-heekim/Implementation_Deep_Learning_Paper/blob/main/VAE_for__MNIST_Tensorflow.ipynb\" target=\"_parent\"><img src=\"https://colab.research.google.com/assets/colab-badge.svg\" alt=\"Open In Colab\"/></a>"
      ]
    },
    {
      "cell_type": "markdown",
      "source": [
        "# Load Necessary Library"
      ],
      "metadata": {
        "id": "po7sKQUCVLJ-"
      }
    },
    {
      "cell_type": "code",
      "execution_count": null,
      "metadata": {
        "id": "zF8-BgpR6tY3"
      },
      "outputs": [],
      "source": [
        "import numpy as np\n",
        "import matplotlib.pyplot as plt\n",
        "\n",
        "import tensorflow as tf\n",
        "from tensorflow.keras.layers import Input, Dense\n",
        "from tensorflow.keras.datasets import mnist"
      ]
    },
    {
      "cell_type": "markdown",
      "source": [
        "# Set up hyper parameters"
      ],
      "metadata": {
        "id": "RBLgY7oTVN8v"
      }
    },
    {
      "cell_type": "code",
      "source": [
        "input_shape = 784\n",
        "latent_dim = 2\n",
        "intermediate_dim = 512\n",
        "original_dim = input_shape"
      ],
      "metadata": {
        "id": "EnkmcntTn728"
      },
      "execution_count": null,
      "outputs": []
    },
    {
      "cell_type": "markdown",
      "source": [
        "# Load Mnist Dataset"
      ],
      "metadata": {
        "id": "MfNPUYaJVRmJ"
      }
    },
    {
      "cell_type": "code",
      "source": [
        "(train_x, train_y), (test_x, test_y) = mnist.load_data()\n",
        "print(f'Train Shape: {train_x.shape}, Test Shape: {test_x.shape}')"
      ],
      "metadata": {
        "colab": {
          "base_uri": "https://localhost:8080/"
        },
        "id": "7Z-Ramch7CB0",
        "outputId": "320682db-206e-44b2-f2ba-49ddd7cf1e2f"
      },
      "execution_count": null,
      "outputs": [
        {
          "output_type": "stream",
          "name": "stdout",
          "text": [
            "Downloading data from https://storage.googleapis.com/tensorflow/tf-keras-datasets/mnist.npz\n",
            "11493376/11490434 [==============================] - 0s 0us/step\n",
            "11501568/11490434 [==============================] - 0s 0us/step\n",
            "Train Shape: (60000, 28, 28), Test Shape: (10000, 28, 28)\n"
          ]
        }
      ]
    },
    {
      "cell_type": "code",
      "source": [
        "train_x = np.reshape(train_x, (train_x.shape[0], -1)) / 255.\n",
        "test_x = np.reshape(test_x, (test_x.shape[0], -1)) / 255.\n",
        "\n",
        "print(f'Train Shape: {train_x.shape}, Test Shape: {test_x.shape}')"
      ],
      "metadata": {
        "colab": {
          "base_uri": "https://localhost:8080/"
        },
        "id": "TiNOVO7i7ZD-",
        "outputId": "c455287b-8659-43e3-c7b3-9db5a150e121"
      },
      "execution_count": null,
      "outputs": [
        {
          "output_type": "stream",
          "name": "stdout",
          "text": [
            "Train Shape: (60000, 784), Test Shape: (10000, 784)\n"
          ]
        }
      ]
    },
    {
      "cell_type": "markdown",
      "source": [
        "# Define VAE"
      ],
      "metadata": {
        "id": "3d_ijMOCVVe0"
      }
    },
    {
      "cell_type": "code",
      "source": [
        "def encoder():\n",
        "    inputs = Input(shape=(784, ))\n",
        "\n",
        "    hidden_layer = Dense(intermediate_dim, activation='relu')(inputs)\n",
        "    z_mean = Dense(2)(hidden_layer)\n",
        "    log_var = Dense(2)(hidden_layer)\n",
        "\n",
        "    def sampling(args):\n",
        "        z_mean, log_var = args\n",
        "        batch = tf.shape(z_mean)[0]\n",
        "        dim = tf.shape(z_mean)[1]\n",
        "        epsilon = tf.compat.v2.random.normal(shape=(batch, dim))\n",
        "        return z_mean + tf.exp(0.5 * log_var) * epsilon\n",
        "\n",
        "    z_sampling = tf.keras.layers.Lambda(sampling, (2,))([z_mean, log_var])\n",
        "\n",
        "    return tf.keras.Model(inputs, [z_mean, log_var, z_sampling], name='Encoder')\n",
        "\n",
        "encoder = encoder()\n",
        "encoder.summary()"
      ],
      "metadata": {
        "colab": {
          "base_uri": "https://localhost:8080/"
        },
        "id": "GEVFyW0D_9O3",
        "outputId": "781e223f-68cf-4250-8c8c-f50e2b611ba7"
      },
      "execution_count": null,
      "outputs": [
        {
          "output_type": "stream",
          "name": "stdout",
          "text": [
            "Model: \"Encoder\"\n",
            "__________________________________________________________________________________________________\n",
            " Layer (type)                   Output Shape         Param #     Connected to                     \n",
            "==================================================================================================\n",
            " input_1 (InputLayer)           [(None, 784)]        0           []                               \n",
            "                                                                                                  \n",
            " dense (Dense)                  (None, 512)          401920      ['input_1[0][0]']                \n",
            "                                                                                                  \n",
            " dense_1 (Dense)                (None, 2)            1026        ['dense[0][0]']                  \n",
            "                                                                                                  \n",
            " dense_2 (Dense)                (None, 2)            1026        ['dense[0][0]']                  \n",
            "                                                                                                  \n",
            " lambda (Lambda)                (None, 2)            0           ['dense_1[0][0]',                \n",
            "                                                                  'dense_2[0][0]']                \n",
            "                                                                                                  \n",
            "==================================================================================================\n",
            "Total params: 403,972\n",
            "Trainable params: 403,972\n",
            "Non-trainable params: 0\n",
            "__________________________________________________________________________________________________\n"
          ]
        }
      ]
    },
    {
      "cell_type": "code",
      "source": [
        "def decoder():\n",
        "    inputs = Input((2,))\n",
        "    hidden_layer = Dense(intermediate_dim, activation='relu')(inputs)\n",
        "\n",
        "    outputs = Dense(784, activation='sigmoid')(hidden_layer)\n",
        "    return tf.keras.Model(inputs, outputs, name='Decoder')\n",
        "\n",
        "decoder = decoder()\n",
        "decoder.summary()"
      ],
      "metadata": {
        "colab": {
          "base_uri": "https://localhost:8080/"
        },
        "id": "3CfJFqzYCJEF",
        "outputId": "e065da24-0aac-40ec-dfd6-01ccd78cbb59"
      },
      "execution_count": null,
      "outputs": [
        {
          "output_type": "stream",
          "name": "stdout",
          "text": [
            "Model: \"Decoder\"\n",
            "_________________________________________________________________\n",
            " Layer (type)                Output Shape              Param #   \n",
            "=================================================================\n",
            " input_2 (InputLayer)        [(None, 2)]               0         \n",
            "                                                                 \n",
            " dense_3 (Dense)             (None, 512)               1536      \n",
            "                                                                 \n",
            " dense_4 (Dense)             (None, 784)               402192    \n",
            "                                                                 \n",
            "=================================================================\n",
            "Total params: 403,728\n",
            "Trainable params: 403,728\n",
            "Non-trainable params: 0\n",
            "_________________________________________________________________\n"
          ]
        }
      ]
    },
    {
      "cell_type": "code",
      "source": [
        "def vae():\n",
        "    inputs = Input((784,))\n",
        "    z_mean, log_var, z_sampling = encoder(inputs)\n",
        "    outputs = decoder(z_sampling)\n",
        "    return tf.keras.Model(inputs, outputs, name='VAE')"
      ],
      "metadata": {
        "id": "d6nI9gbKEXbX"
      },
      "execution_count": null,
      "outputs": []
    },
    {
      "cell_type": "markdown",
      "source": [
        "# Setting Model & Optimizer & Loss"
      ],
      "metadata": {
        "id": "LwPOg_itVXdm"
      }
    },
    {
      "cell_type": "code",
      "source": [
        "epochs = 50\n",
        "batch_size = 64\n",
        "lr = 1e-4\n",
        "intermediate_dim = 512\n",
        "\n",
        "def vae_loss(targets, preds):\n",
        "    z_mean, log_var, z_sampling = encoder(targets)\n",
        "    outputs = decoder(z_sampling)\n",
        "    loss = tf.keras.losses.binary_crossentropy(targets, outputs)\n",
        "    loss *= original_dim\n",
        "    # loss = tf.keras.losses.mse(targets, preds)\n",
        "    kl_loss = 0.5 * tf.reduce_sum(tf.square(z_mean) + tf.exp(log_var) - log_var - 1, 1)\n",
        "    return tf.reduce_mean(loss + kl_loss)\n",
        "\n",
        "model = vae()\n",
        "model.summary()\n",
        "\n",
        "model.compile(\n",
        "    optimizer=tf.keras.optimizers.Adam(learning_rate=lr),\n",
        "    loss=vae_loss\n",
        ")"
      ],
      "metadata": {
        "colab": {
          "base_uri": "https://localhost:8080/"
        },
        "id": "ed6At5JJFANt",
        "outputId": "5e1233d4-fdd8-43fc-870e-099988cdbb7a"
      },
      "execution_count": null,
      "outputs": [
        {
          "output_type": "stream",
          "name": "stdout",
          "text": [
            "Model: \"VAE\"\n",
            "_________________________________________________________________\n",
            " Layer (type)                Output Shape              Param #   \n",
            "=================================================================\n",
            " input_3 (InputLayer)        [(None, 784)]             0         \n",
            "                                                                 \n",
            " Encoder (Functional)        [(None, 2),               403972    \n",
            "                              (None, 2),                         \n",
            "                              (None, 2)]                         \n",
            "                                                                 \n",
            " Decoder (Functional)        (None, 784)               403728    \n",
            "                                                                 \n",
            "=================================================================\n",
            "Total params: 807,700\n",
            "Trainable params: 807,700\n",
            "Non-trainable params: 0\n",
            "_________________________________________________________________\n"
          ]
        }
      ]
    },
    {
      "cell_type": "markdown",
      "source": [
        "# Training"
      ],
      "metadata": {
        "id": "qP5NreDEVaxR"
      }
    },
    {
      "cell_type": "code",
      "source": [
        "hist = model.fit(train_x, train_x, epochs=epochs, batch_size=batch_size)"
      ],
      "metadata": {
        "colab": {
          "base_uri": "https://localhost:8080/"
        },
        "id": "vVsWv63dFb2A",
        "outputId": "fb9fadca-6208-47b0-e1d2-736a3cff2739"
      },
      "execution_count": null,
      "outputs": [
        {
          "output_type": "stream",
          "name": "stdout",
          "text": [
            "Epoch 1/50\n",
            "938/938 [==============================] - 10s 6ms/step - loss: 243.2229\n",
            "Epoch 2/50\n",
            "938/938 [==============================] - 4s 5ms/step - loss: 186.8592\n",
            "Epoch 3/50\n",
            "938/938 [==============================] - 4s 4ms/step - loss: 179.1104\n",
            "Epoch 4/50\n",
            "938/938 [==============================] - 4s 4ms/step - loss: 174.1735\n",
            "Epoch 5/50\n",
            "938/938 [==============================] - 4s 4ms/step - loss: 171.5626\n",
            "Epoch 6/50\n",
            "938/938 [==============================] - 4s 4ms/step - loss: 170.0027\n",
            "Epoch 7/50\n",
            "938/938 [==============================] - 4s 4ms/step - loss: 168.8094\n",
            "Epoch 8/50\n",
            "938/938 [==============================] - 4s 4ms/step - loss: 167.8230\n",
            "Epoch 9/50\n",
            "938/938 [==============================] - 4s 4ms/step - loss: 166.9863\n",
            "Epoch 10/50\n",
            "938/938 [==============================] - 4s 4ms/step - loss: 166.1968\n",
            "Epoch 11/50\n",
            "938/938 [==============================] - 4s 4ms/step - loss: 165.4783\n",
            "Epoch 12/50\n",
            "938/938 [==============================] - 4s 4ms/step - loss: 164.8172\n",
            "Epoch 13/50\n",
            "938/938 [==============================] - 4s 4ms/step - loss: 164.1689\n",
            "Epoch 14/50\n",
            "938/938 [==============================] - 4s 4ms/step - loss: 163.6044\n",
            "Epoch 15/50\n",
            "938/938 [==============================] - 4s 4ms/step - loss: 163.0291\n",
            "Epoch 16/50\n",
            "938/938 [==============================] - 4s 4ms/step - loss: 162.4937\n",
            "Epoch 17/50\n",
            "938/938 [==============================] - 4s 4ms/step - loss: 161.9763\n",
            "Epoch 18/50\n",
            "938/938 [==============================] - 4s 4ms/step - loss: 161.4690\n",
            "Epoch 19/50\n",
            "938/938 [==============================] - 4s 4ms/step - loss: 160.9899\n",
            "Epoch 20/50\n",
            "938/938 [==============================] - 4s 4ms/step - loss: 160.5314\n",
            "Epoch 21/50\n",
            "938/938 [==============================] - 4s 4ms/step - loss: 160.1075\n",
            "Epoch 22/50\n",
            "938/938 [==============================] - 4s 4ms/step - loss: 159.6669\n",
            "Epoch 23/50\n",
            "938/938 [==============================] - 4s 4ms/step - loss: 159.2963\n",
            "Epoch 24/50\n",
            "938/938 [==============================] - 4s 4ms/step - loss: 158.9248\n",
            "Epoch 25/50\n",
            "938/938 [==============================] - 4s 4ms/step - loss: 158.6015\n",
            "Epoch 26/50\n",
            "938/938 [==============================] - 4s 4ms/step - loss: 158.2733\n",
            "Epoch 27/50\n",
            "938/938 [==============================] - 4s 4ms/step - loss: 157.9916\n",
            "Epoch 28/50\n",
            "938/938 [==============================] - 4s 4ms/step - loss: 157.6998\n",
            "Epoch 29/50\n",
            "938/938 [==============================] - 4s 4ms/step - loss: 157.4458\n",
            "Epoch 30/50\n",
            "938/938 [==============================] - 4s 4ms/step - loss: 157.1824\n",
            "Epoch 31/50\n",
            "938/938 [==============================] - 4s 4ms/step - loss: 156.9176\n",
            "Epoch 32/50\n",
            "938/938 [==============================] - 4s 4ms/step - loss: 156.6935\n",
            "Epoch 33/50\n",
            "938/938 [==============================] - 4s 4ms/step - loss: 156.4794\n",
            "Epoch 34/50\n",
            "938/938 [==============================] - 4s 4ms/step - loss: 156.2633\n",
            "Epoch 35/50\n",
            "938/938 [==============================] - 4s 4ms/step - loss: 156.0729\n",
            "Epoch 36/50\n",
            "938/938 [==============================] - 4s 4ms/step - loss: 155.8641\n",
            "Epoch 37/50\n",
            "938/938 [==============================] - 4s 4ms/step - loss: 155.6487\n",
            "Epoch 38/50\n",
            "938/938 [==============================] - 4s 4ms/step - loss: 155.4758\n",
            "Epoch 39/50\n",
            "938/938 [==============================] - 4s 4ms/step - loss: 155.3028\n",
            "Epoch 40/50\n",
            "938/938 [==============================] - 4s 4ms/step - loss: 155.1430\n",
            "Epoch 41/50\n",
            "938/938 [==============================] - 4s 4ms/step - loss: 154.9507\n",
            "Epoch 42/50\n",
            "938/938 [==============================] - 4s 4ms/step - loss: 154.7884\n",
            "Epoch 43/50\n",
            "938/938 [==============================] - 4s 4ms/step - loss: 154.6480\n",
            "Epoch 44/50\n",
            "938/938 [==============================] - 4s 4ms/step - loss: 154.4839\n",
            "Epoch 45/50\n",
            "938/938 [==============================] - 4s 4ms/step - loss: 154.3460\n",
            "Epoch 46/50\n",
            "938/938 [==============================] - 4s 4ms/step - loss: 154.1821\n",
            "Epoch 47/50\n",
            "938/938 [==============================] - 4s 4ms/step - loss: 154.0436\n",
            "Epoch 48/50\n",
            "938/938 [==============================] - 4s 4ms/step - loss: 153.8948\n",
            "Epoch 49/50\n",
            "938/938 [==============================] - 4s 4ms/step - loss: 153.7667\n",
            "Epoch 50/50\n",
            "938/938 [==============================] - 4s 4ms/step - loss: 153.6371\n"
          ]
        }
      ]
    },
    {
      "cell_type": "markdown",
      "source": [
        "# Visualization input images & reconstruction images"
      ],
      "metadata": {
        "id": "GP7xpvZWVcX2"
      }
    },
    {
      "cell_type": "code",
      "source": [
        "recon_x = model.predict(test_x)\n",
        "\n",
        "n = 10  \n",
        "plt.figure(figsize=(15, 4))\n",
        "for i in range(10):\n",
        "    # display original\n",
        "    ax = plt.subplot(2, n, i + 1)\n",
        "    plt.imshow(test_x[i].reshape(28,28), vmin=0, vmax=1, cmap=\"gray\")\n",
        "    plt.title(\"Input\"+str(i))\n",
        "    plt.axis('off')\n",
        "\n",
        "    # display reconstruction\n",
        "    ax = plt.subplot(2, n, i + 1 + n)\n",
        "    plt.imshow(recon_x[i].reshape(28, 28),vmin=0, vmax=1, cmap=\"gray\")\n",
        "    plt.title(\"Recon\"+str(i))\n",
        "    plt.axis('off')\n",
        "\n",
        "plt.show()"
      ],
      "metadata": {
        "colab": {
          "base_uri": "https://localhost:8080/",
          "height": 236
        },
        "id": "Byg7ub5aKXNX",
        "outputId": "3b00ad3b-b24f-41ab-cb7f-72cfa131c885"
      },
      "execution_count": null,
      "outputs": [
        {
          "output_type": "display_data",
          "data": {
            "image/png": "[encoded data removed]",
            "text/plain": [
              "<Figure size 1080x288 with 20 Axes>"
            ]
          },
          "metadata": {
            "needs_background": "light"
          }
        }
      ]
    }
  ]
}